{
  "cells": [
    {
      "cell_type": "markdown",
      "metadata": {
        "id": "view-in-github"
      },
      "source": [
        "<a href=\"https://colab.research.google.com/github/PrincetonUniversity/python-data-vis/blob/main/python_data_vis.ipynb\" target=\"_parent\"><img src=\"https://colab.research.google.com/assets/colab-badge.svg\" alt=\"Open In Colab\"/></a>"
      ]
    },
    {
      "cell_type": "markdown",
      "metadata": {
        "id": "QSMmdrrVLZ-N"
      },
      "source": [
        "## ‼️ Please save a copy of this notebook in Google Drive (under the `File` tab) to use\n",
        "\n",
        "# Data Visualization in Python\n",
        "\n",
        "Welcome to the Data Visualization in Python workshop at the [Princeton Institute for Computational Science & Engineering](https://researchcomputing.princeton.edu/about/about-picscie) (PICSciE), [OIT](https://oit.princeton.edu/) Research Computing and [Center for Statistics and Machine Learning](https://csml.princeton.edu/) (CSML) at Princeton University.\n",
        "\n",
        "During this course we will learn how to interact with some of the most powerful Python packages for data visualization.\n",
        "\n",
        "We will try to cover a lot and move quickly to show you how to generally use these packages and what's possible.\n",
        "\n",
        "---"
      ]
    },
    {
      "cell_type": "markdown",
      "metadata": {
        "id": "8Kf2usIxf0wn"
      },
      "source": [
        "## Why Visualize Your Data?\n",
        "\n",
        "There are two main reasons to visualize your data:\n",
        "\n",
        "1. It helps you **understand** your data in order to make better insights.\n",
        "2. It helps you **communicate** your findings to others.\n",
        "\n",
        "This workshop will help with both of these goals!\n",
        "\n",
        "---"
      ]
    },
    {
      "cell_type": "markdown",
      "metadata": {
        "id": "52NjipgjUtKe"
      },
      "source": [
        "## Setting up your environment in Google Colab or Jupyter Notebooks\n",
        "\n",
        "For making plots we will be using *Matplotlib*, *Seaborn* and *Plotly* if time permits.\n",
        "\n",
        "We will also use *Numpy* and *Pandas* for creating and reshaping matrices and data tables, but more on this in a moment."
      ]
    },
    {
      "cell_type": "markdown",
      "metadata": {
        "id": "ShSAYamnf0wo"
      },
      "source": [
        "### Option 1: Google Colab\n",
        "\n",
        "For today's workshop we will be running the notebook in remotely in a virtual machine through [Google Colab](https://colab.research.google.com), which already has all of these packages installed."
      ]
    },
    {
      "cell_type": "code",
      "execution_count": null,
      "metadata": {
        "colab": {
          "base_uri": "https://localhost:8080/"
        },
        "id": "jDYDrWW-U403",
        "outputId": "cfadf7ba-a983-4740-fb69-e0eca3f3ee05"
      },
      "outputs": [],
      "source": [
        "# Note that we have to type an exclamation mark (!) before the pip command. This exclamation mark allow us to execute a shell command in our Colab Notebook.\n",
        "!pip install numpy matplotlib pandas seaborn plotly"
      ]
    },
    {
      "cell_type": "markdown",
      "metadata": {
        "id": "KB0YSDtlf0wp"
      },
      "source": [
        "### Option 2: Jupyter Notebook\n",
        "\n",
        "If you would like to run this notebook locally (on your computer), you would have to install *Jupyter Notebooks* and some other Python packages before running this notebook. Depending on your Python installation you can install packages using either **conda install *packagename*** or **pip install *packagename***.\n",
        "\n",
        "#### Steps:\n",
        "\n",
        "1. Install [Conda](https://www.anaconda.com/download).\n",
        "2. Create an environment with the required dependencies:\n",
        "  ```\n",
        "  $ conda create --name dataviz python=3.10 numpy scipy pandas matplotlib seaborn plotly ipython jupyter\n",
        "  ```\n",
        "\n",
        "3. Activate the environment:\n",
        "  ```\n",
        "  $ conda activate dataviz\n",
        "  ```\n",
        "\n",
        "4. Open this notebook with Jupyter:\n",
        "  ```\n",
        "  $ jupyter notebook python_data_vis.ipynb\n",
        "  ```"
      ]
    },
    {
      "cell_type": "markdown",
      "metadata": {
        "id": "cRkuifc7PazR"
      },
      "source": [
        "## Numpy\n",
        "\n",
        "These packages are not **directly** related to data visualization but are extremely important for data analysis and reshaping data into formats that are used by various plotting functions, allowing us to quickly understand the features of large datasets!\n",
        "\n",
        "### *Very brief* intro to Numpy:\n",
        "- matrix data structures, potentially multidimensional\n",
        "- numpy arrays faster + more compact than python lists\n",
        "- numpy arrays must be homogenous (e.g. numerical data only!)\n",
        "\n",
        "\n",
        "\n",
        "\n"
      ]
    },
    {
      "cell_type": "code",
      "execution_count": null,
      "metadata": {
        "id": "8ixMeHsgKHVN"
      },
      "outputs": [],
      "source": [
        "import numpy as np"
      ]
    },
    {
      "cell_type": "markdown",
      "metadata": {
        "id": "iyXxAmCdziMC"
      },
      "source": [
        "Let's make a simple array from a list."
      ]
    },
    {
      "cell_type": "code",
      "execution_count": null,
      "metadata": {
        "colab": {
          "base_uri": "https://localhost:8080/"
        },
        "id": "hA9LaMbcRDi8",
        "outputId": "f24f63dd-0a62-49eb-ed0b-3103585f5299"
      },
      "outputs": [],
      "source": [
        "a = np.array([1, 2, 3, 4])\n",
        "a"
      ]
    },
    {
      "cell_type": "markdown",
      "metadata": {
        "id": "ZDpdUlNCzpcw"
      },
      "source": [
        "Or from a list of lists, i.e. a matrix with rows and columns. Note the extra square brackets!\n",
        "\n"
      ]
    },
    {
      "cell_type": "code",
      "execution_count": null,
      "metadata": {
        "colab": {
          "base_uri": "https://localhost:8080/"
        },
        "id": "OkQ4UOkYRDi8",
        "outputId": "682e5d0f-32af-4d00-9310-3132eb833f06"
      },
      "outputs": [],
      "source": [
        "a = np.array([[1, 2, 3, 4],\n",
        "              [5, 6, 7, 8],\n",
        "              [9, 10, 11, 12]])\n",
        "\n",
        "# what is the \"shape\"? Rows and columns.\n",
        "a.shape"
      ]
    },
    {
      "cell_type": "markdown",
      "metadata": {
        "id": "llhmhYYJz11A"
      },
      "source": [
        "We can look at **all** elements in the second ROW (the `:` is optional here)."
      ]
    },
    {
      "cell_type": "code",
      "execution_count": null,
      "metadata": {
        "colab": {
          "base_uri": "https://localhost:8080/"
        },
        "id": "jXuXvFCJRDi8",
        "outputId": "91b3bad6-9aa5-4809-d47e-9513cc31f4fb"
      },
      "outputs": [],
      "source": [
        "a[1, :]"
      ]
    },
    {
      "cell_type": "markdown",
      "metadata": {
        "id": "CQQAx_Hlz7F0"
      },
      "source": [
        "or **all** elements in the second column"
      ]
    },
    {
      "cell_type": "code",
      "execution_count": null,
      "metadata": {
        "colab": {
          "base_uri": "https://localhost:8080/"
        },
        "id": "tSmlDs6BRDi9",
        "outputId": "4de36c06-d288-488a-f75e-27aec39db653"
      },
      "outputs": [],
      "source": [
        "a[:, 1]"
      ]
    },
    {
      "cell_type": "markdown",
      "metadata": {
        "id": "wPmHZ11H0KFk"
      },
      "source": [
        "We can \"broadcast\" arithmetic operations."
      ]
    },
    {
      "cell_type": "code",
      "execution_count": null,
      "metadata": {
        "colab": {
          "base_uri": "https://localhost:8080/"
        },
        "id": "s6xwhHEHRDi9",
        "outputId": "56e95148-4707-4067-cf43-2cbb252e38c6"
      },
      "outputs": [],
      "source": [
        "a * 2"
      ]
    },
    {
      "cell_type": "markdown",
      "metadata": {
        "id": "wI1zCbGK0Xp-"
      },
      "source": [
        "Numpy has many useful built-in functions, such as summing across columns."
      ]
    },
    {
      "cell_type": "code",
      "execution_count": null,
      "metadata": {
        "colab": {
          "base_uri": "https://localhost:8080/"
        },
        "id": "uxdS12Q1RDi9",
        "outputId": "65b6d242-5876-4be2-c988-e3cfaf2b578c"
      },
      "outputs": [],
      "source": [
        "a.sum(axis=0)"
      ]
    },
    {
      "cell_type": "markdown",
      "metadata": {
        "id": "PHEI98pz0cRW"
      },
      "source": [
        "Or summing across rows."
      ]
    },
    {
      "cell_type": "code",
      "execution_count": null,
      "metadata": {
        "colab": {
          "base_uri": "https://localhost:8080/"
        },
        "id": "YLc7yyFfRDi9",
        "outputId": "90b12cc9-280c-48f6-9617-7f78605b3eff"
      },
      "outputs": [],
      "source": [
        "a.sum(axis=1)"
      ]
    },
    {
      "cell_type": "markdown",
      "metadata": {
        "id": "e6ZFVcfqRDi9"
      },
      "source": [
        "There are **many** other numpy functions that do quickly do complex operations with little code. We barely scratched the surface here. For more, see this [Python for Data Science Cheat Sheet](https://web.itu.edu.tr/iguzel/files/Python_Cheat_Sheets.pdf) or the official [Numpy User Guide](https://numpy.org/doc/stable/user/)."
      ]
    },
    {
      "cell_type": "markdown",
      "metadata": {
        "id": "MivIYw_qRDi-"
      },
      "source": [
        "---"
      ]
    },
    {
      "cell_type": "markdown",
      "metadata": {
        "id": "mS4-dY1dRDi-"
      },
      "source": [
        "## Pandas\n",
        "- Built on Numpy\n",
        "    - Uses more memory, slower indexing\n",
        "- *Easy* to use with 2D data tables or spreadsheets with *labeled* columns and rows!\n",
        "  - Has simple functions to reshape data, summarize information, and do common/useful tasks\n",
        "  - See this [Pandas Cheat Sheet](https://pandas.pydata.org/Pandas_Cheat_Sheet.pdf) for an overview of capabilities/functions\n",
        "- Reshaping or filtering data with Pandas allows us to pass different pieces of information to plotting functions to understand different features of our data."
      ]
    },
    {
      "cell_type": "code",
      "execution_count": null,
      "metadata": {
        "id": "K_Z5EqL0HcZJ"
      },
      "outputs": [],
      "source": [
        "import pandas as pd"
      ]
    },
    {
      "cell_type": "markdown",
      "metadata": {
        "id": "a435v7NYqiCM"
      },
      "source": [
        "### Loading and reshaping data with Pandas\n",
        "\n",
        "We can use the *Pandas* function `read_csv` to create a *Pandas DataFrame*. Here we will use a url everyone has access to, but you may simply replace this with a file located on your computer."
      ]
    },
    {
      "cell_type": "code",
      "execution_count": null,
      "metadata": {
        "id": "SVUh739-J_ML"
      },
      "outputs": [],
      "source": [
        "url = \"https://corgis-edu.github.io/corgis/datasets/csv/weather/weather.csv\"\n",
        "df = pd.read_csv(url)\n",
        "\n",
        "# or download locally:\n",
        "# !wget https://corgis-edu.github.io/corgis/datasets/csv/weather/weather.csv\n",
        "# df = pd.read_csv('./weather.csv')"
      ]
    },
    {
      "cell_type": "markdown",
      "metadata": {
        "id": "eVC5SVamRDi-"
      },
      "source": [
        "This dataset contains weather information collected from weather stations accross the US from January 2016 to January 2017.\n",
        "\n",
        "We can learn much about these data using *Pandas* built-in functions to interact with this DataFrame.\n",
        "\n",
        "Let's peek at the first 3 lines of the Data Frame with `.head()` and the column names with `.column`."
      ]
    },
    {
      "cell_type": "code",
      "execution_count": null,
      "metadata": {
        "colab": {
          "base_uri": "https://localhost:8080/",
          "height": 179
        },
        "id": "GBrl4gHARDi_",
        "outputId": "8bf1bb5b-e2bb-417b-864f-b11c560d8db7"
      },
      "outputs": [],
      "source": [
        "df.head(3)"
      ]
    },
    {
      "cell_type": "markdown",
      "metadata": {
        "id": "muwX80PW1bMQ"
      },
      "source": [
        "For huge datasets with many columns that can't all be displayed on the screen, it may easier to just look at the columns."
      ]
    },
    {
      "cell_type": "code",
      "execution_count": null,
      "metadata": {
        "colab": {
          "base_uri": "https://localhost:8080/"
        },
        "id": "TE_QLbPKRDi_",
        "outputId": "f634bccc-98be-4874-c98d-b2e2603ee60e"
      },
      "outputs": [],
      "source": [
        "df.columns"
      ]
    },
    {
      "cell_type": "markdown",
      "metadata": {
        "id": "cqopWLMSf0wv"
      },
      "source": [
        "We can also ask Pandas to generate some descriptive statistics using `.decribe()`."
      ]
    },
    {
      "cell_type": "code",
      "execution_count": null,
      "metadata": {
        "colab": {
          "base_uri": "https://localhost:8080/",
          "height": 334
        },
        "id": "kW37jpuEf0wv",
        "outputId": "121e1b6c-29ac-4f55-e1aa-640efddcf274"
      },
      "outputs": [],
      "source": [
        "df.describe()"
      ]
    },
    {
      "cell_type": "markdown",
      "metadata": {
        "id": "EVq_Z5HZRDi_"
      },
      "source": [
        "We can remove the whitespaces or dots \".\" from our column names and replace them with underscores \"_\". This makes downstream analyses with DataFrames much easier!"
      ]
    },
    {
      "cell_type": "code",
      "execution_count": null,
      "metadata": {
        "colab": {
          "base_uri": "https://localhost:8080/"
        },
        "id": "3zfV-h54RDi_",
        "outputId": "b452ee43-1478-481c-c2b9-945cb56a4828"
      },
      "outputs": [],
      "source": [
        "df.columns = [col.replace('.', '_').replace(' ', '_') for col in df.columns]\n",
        "\n",
        "# OR, the less pythonic, longer way to do it for those not familiar with list comprehensions:\n",
        "#new_col_names = []\n",
        "#for col in df.columns:\n",
        "#  new_name = col.replace('.', '_').replace(' ', '_')\n",
        "#  new_col_names.append( new_name )\n",
        "#df.columns = new_col_names\n",
        "df.columns\n"
      ]
    },
    {
      "cell_type": "markdown",
      "metadata": {
        "id": "HhPYGyorUMwT"
      },
      "source": [
        "We can access columns **by name** using square brackets."
      ]
    },
    {
      "cell_type": "code",
      "execution_count": null,
      "metadata": {
        "colab": {
          "base_uri": "https://localhost:8080/"
        },
        "id": "KiUyayxZRDjA",
        "outputId": "b15cdff4-94aa-431a-9ab0-3760928bcc21"
      },
      "outputs": [],
      "source": [
        "df['Data_Wind_Direction']"
      ]
    },
    {
      "cell_type": "markdown",
      "metadata": {
        "id": "4G_znFt8UScm"
      },
      "source": [
        "Or using dot notation (which autocompletes in Jupyter notebooks, very useful!)\n",
        "\n",
        "Note: we **had** to change column names for this to work, as they originally contained \".\" which has a specific meaning in python. This approach is nice because it auto-completes in Jupyter notebooks!"
      ]
    },
    {
      "cell_type": "code",
      "execution_count": null,
      "metadata": {
        "colab": {
          "base_uri": "https://localhost:8080/"
        },
        "id": "Jn7gMJz0RDjA",
        "outputId": "4615919e-56b0-4bb7-c6c3-859d2b732d44"
      },
      "outputs": [],
      "source": [
        "df.Data_Wind_Direction"
      ]
    },
    {
      "cell_type": "markdown",
      "metadata": {
        "id": "aYLW6j7QLA7Y"
      },
      "source": [
        "We can check the unique entries of each column using the `.unique()` method.\n",
        "\n"
      ]
    },
    {
      "cell_type": "code",
      "execution_count": null,
      "metadata": {
        "colab": {
          "base_uri": "https://localhost:8080/"
        },
        "id": "6PfGGF48K_Sr",
        "outputId": "81843521-a53b-4611-90ff-70a31ad04bd3"
      },
      "outputs": [],
      "source": [
        "print(df.Station_State.unique())\n",
        "print(len(df.Station_State.unique()))"
      ]
    },
    {
      "cell_type": "markdown",
      "metadata": {
        "id": "z0_Afh9ORDjA"
      },
      "source": [
        "There should be 51 entries here (50 states + Puerto Rico), but this quick check shows Virginia and Delaware are represented both by their full names and their 2-letter abbreviations. Pandas functions and plotting (below) allow us to quickly do many sanity checks!\n",
        "\n",
        "Let's confirm this by looking at the rows in which the State is VA instead of Virginia.\n",
        "\n",
        "The `.loc` is used to access a group of rows and columns by label(s) or a boolean array."
      ]
    },
    {
      "cell_type": "code",
      "execution_count": null,
      "metadata": {
        "colab": {
          "base_uri": "https://localhost:8080/",
          "height": 224
        },
        "id": "8u6TjB3OuMrV",
        "outputId": "e6c96636-2ba1-4250-8222-e0fceeb60532"
      },
      "outputs": [],
      "source": [
        "condition = df.Station_State == 'VA' # this is a Series of True/False statements\n",
        "df.loc[condition].head(5) # select rows that correspond to True in 'condition' Series\n",
        "# or simply\n",
        "#df.loc[df.Station_State == 'VA'].head(5)"
      ]
    },
    {
      "cell_type": "markdown",
      "metadata": {
        "id": "-m-PshmT0ikg"
      },
      "source": [
        "We can rename the Station_State of *DE* and *VA* to *Delaware* and *Virginia*, respectively, using the `.replace()` method of Pandas DataFrames."
      ]
    },
    {
      "cell_type": "code",
      "execution_count": null,
      "metadata": {
        "id": "fj5a9RoE08Ob"
      },
      "outputs": [],
      "source": [
        "df = df.replace(to_replace={'Station_State': 'DE'}, value={'Station_State': 'Delaware'}, regex=True)\n",
        "df = df.replace(to_replace={'Station_State': 'VA'}, value={'Station_State': 'Virginia'}, regex=True)"
      ]
    },
    {
      "cell_type": "markdown",
      "metadata": {
        "id": "Twi6fNUx2UCy"
      },
      "source": [
        "Lets check again the number of unique entries in the *Station_State* column."
      ]
    },
    {
      "cell_type": "code",
      "execution_count": null,
      "metadata": {
        "colab": {
          "base_uri": "https://localhost:8080/"
        },
        "id": "F23d6SBx2SHu",
        "outputId": "2042f3ef-cef9-431c-b9a0-704600a03dd2"
      },
      "outputs": [],
      "source": [
        "print('Number of unique states in the dataframe:', len(df.Station_State.unique()))"
      ]
    },
    {
      "cell_type": "markdown",
      "metadata": {
        "id": "-Va7VJ1HRDjB"
      },
      "source": [
        "We will now focus on data visualization, but see the [Pandas documention and tutorials](https://pandas.pydata.org/pandas-docs/stable/index.html) for more information about many other useful functions!\n",
        "\n",
        "Tip: Use Google to search what you want to do with \"pandas\" in the query. Usually the first few search hits will have the answer. Memorization then comes with time."
      ]
    },
    {
      "cell_type": "markdown",
      "metadata": {
        "id": "7NO7vI6_93Sp"
      },
      "source": [
        "---"
      ]
    },
    {
      "cell_type": "markdown",
      "metadata": {
        "id": "xNzEBRkzL3B0"
      },
      "source": [
        "### Matplotlib\n",
        "\n",
        "[Matplotlib](http://matplotlib.org/) is one of the most common Python packages for creating 1-D and 2-D plots. Here we will cover how to use Matplotlib to create three of the most widely used plot types for data visualization: line plots, bar plots, and scatter plots. We will also go through an example of how to combine different plot types using the flexibility that the package offers.\n",
        "\n",
        "We also encourage you to use the package [documentation](https://matplotlib.org/stable/) and its [examples](https://matplotlib.org/stable/gallery/index.html) for details and inspiration."
      ]
    },
    {
      "cell_type": "markdown",
      "metadata": {
        "id": "NKCUs5KGf5gd"
      },
      "source": [
        "We will start by importing the *Matplotlib* package as:"
      ]
    },
    {
      "cell_type": "code",
      "execution_count": null,
      "metadata": {
        "id": "KVY1GJmff7N1"
      },
      "outputs": [],
      "source": [
        "import matplotlib.pyplot as plt  # This is equivalent to 'from matplotlib import pyplot as plt'."
      ]
    },
    {
      "cell_type": "markdown",
      "metadata": {
        "id": "Q-FbEqRugZga"
      },
      "source": [
        "Since we are running this interactive code through a Notebook (instead of running it in the Python console) we will have to activate some flags to print out the *Matplotlib* graphical outputs:"
      ]
    },
    {
      "cell_type": "code",
      "execution_count": null,
      "metadata": {
        "id": "Yw51fhXHgcTY"
      },
      "outputs": [],
      "source": [
        "%matplotlib inline\n",
        "plt.style.use('seaborn-v0_8-darkgrid') # common style\n",
        "\n",
        "plt.style.use('fivethirtyeight') # cleaner aesthetics\n",
        "plt.rcParams['axes.facecolor'] = 'white'\n",
        "plt.rcParams['axes.edgecolor'] = 'white'\n",
        "plt.rcParams['savefig.facecolor'] = 'white'\n",
        "plt.rcParams['savefig.edgecolor'] = 'white'"
      ]
    },
    {
      "cell_type": "markdown",
      "metadata": {
        "id": "7Nbqwym1RaKe"
      },
      "source": [
        "---"
      ]
    },
    {
      "cell_type": "markdown",
      "metadata": {
        "id": "WALI8x49GUpe"
      },
      "source": [
        "### Line Plots\n",
        "\n",
        "There are essentially two approaches to use Matplotlib:\n",
        "\n",
        "1. **Function-based Approach**: rely on pyplot to automatically create and manage the figures and axes, and then use pyplot functions for plotting.\n",
        "2. **Object-oriented Approach**: explicitly create figures and axes, and call methods on them.\n",
        "\n",
        "We will start with a basic example to understand the syntax that is used to create figures in Matplotlib using the **function-based approach**."
      ]
    },
    {
      "cell_type": "code",
      "execution_count": null,
      "metadata": {
        "colab": {
          "base_uri": "https://localhost:8080/",
          "height": 475
        },
        "id": "ibeyu-Wn_36G",
        "outputId": "50521dc3-898c-4a26-95b7-2d88c63f6087"
      },
      "outputs": [],
      "source": [
        "# Generate some data.\n",
        "x = [0., 2., 3., 4.]\n",
        "y = [5., 2., 5., 4.]\n",
        "\n",
        "# We can make a figure using:\n",
        "plt.figure()\n",
        "\n",
        "# We can then insert a 1D line plot as:\n",
        "plt.plot(x, y, c='orange')\n",
        "\n",
        "# We can set a title using the command:\n",
        "plt.title('Simple Plot')\n",
        "\n",
        "# And show the result using:\n",
        "plt.show()"
      ]
    },
    {
      "cell_type": "markdown",
      "metadata": {
        "id": "Ds8lLnOCTBjQ"
      },
      "source": [
        "---"
      ]
    },
    {
      "cell_type": "markdown",
      "metadata": {
        "id": "s406qpHSgPoA"
      },
      "source": [
        "Now that we know the basics, we can go a bit further and improve our plots using different properties of the functions that are built in *Matplotlib*. For instance, we can add more data or change properties of the plots (e.g. figure size, resolution, colors, line styles...). We will also learn how to save our figures so we can use them in combination with other software such as *Adobe Illustrator®* ([available free to students, faculty, and staff](https://oit.princeton.edu/creativecloud)), *Affinity Designer* or *Inkscape*."
      ]
    },
    {
      "cell_type": "code",
      "execution_count": null,
      "metadata": {
        "colab": {
          "base_uri": "https://localhost:8080/",
          "height": 354
        },
        "id": "08RTGn_xE3MP",
        "outputId": "ac116ef0-38e5-4c9d-9f00-cb7c8b4092cd"
      },
      "outputs": [],
      "source": [
        "# Create your data.\n",
        "x  = [1, 2, 3, 4, 5]\n",
        "y1 = [5, 3, 5, 3, 5]\n",
        "y2 = [2, 4, 6, 4, 2]\n",
        "\n",
        "# Create a new figure.\n",
        "plt.figure(figsize=(5.0, 3.0), dpi=100)\n",
        "\n",
        "# Add plots in the figure (you can set a name to each series).\n",
        "plt.plot(x, y1, label=\"Label A\", color='green')\n",
        "plt.plot(x, y2, label=\"Label B\", color='#B2C144', lw=2.0, ls='--')\n",
        "\n",
        "# Add title, axis labels, legend, etc.\n",
        "plt.title(\"New example \" + r'$\\beta_1$')\n",
        "plt.xlabel(\"x axis\", size=12)\n",
        "plt.ylabel(r'$\\nu$', size=20)\n",
        "\n",
        "plt.legend(loc=0)  # Automatic position using 'loc=0' (default).\n",
        "\n",
        "# Save your figure using plt.savefig('filename.svg').\n",
        "plt.savefig('./my_fig2.svg', dpi=300)\n",
        "\n",
        "# Matplotlib Colors: https://matplotlib.org/stable/gallery/color/named_colors.html\n",
        "# Hexadecimal Colors: https://htmlcolorcodes.com/color-picker/\n",
        "# LaTeX Math notation: http://tug.ctan.org/info/undergradmath/undergradmath.pdf\n",
        "# Matplotlib Linestyles: https://matplotlib.org/stable/gallery/lines_bars_and_markers/linestyles.html"
      ]
    },
    {
      "cell_type": "code",
      "execution_count": null,
      "metadata": {
        "colab": {
          "base_uri": "https://localhost:8080/"
        },
        "id": "XxeepsBrg5u5",
        "outputId": "86e729e7-4d9e-4eaf-8f1b-1e1c3de48584"
      },
      "outputs": [],
      "source": [
        "!ls"
      ]
    },
    {
      "cell_type": "markdown",
      "metadata": {
        "id": "SZ4gCA4UTELG"
      },
      "source": [
        "---"
      ]
    },
    {
      "cell_type": "markdown",
      "metadata": {
        "id": "CMLPtYJB9r5W"
      },
      "source": [
        "We can also generate data systematically using a function. Here we will use some built in functions from *Numpy*. We will import *Numpy* using the alias **np** since we will use this package very often."
      ]
    },
    {
      "cell_type": "code",
      "execution_count": null,
      "metadata": {
        "id": "bSrqPio3_CE4"
      },
      "outputs": [],
      "source": [
        "import numpy as np"
      ]
    },
    {
      "cell_type": "markdown",
      "metadata": {
        "id": "hTY33WRqASRh"
      },
      "source": [
        "We can use *Numpy* to generate an array with equally spaced data-points in a certain range using the `np.arange` function. You may also find the parametrization in `np.linspace` more convenient for the same purposes."
      ]
    },
    {
      "cell_type": "code",
      "execution_count": null,
      "metadata": {
        "colab": {
          "base_uri": "https://localhost:8080/"
        },
        "id": "DmZ0fZNs-2xb",
        "outputId": "bddbdd1d-a08b-40ad-a298-92adc5861763"
      },
      "outputs": [],
      "source": [
        "x = np.arange(0, 10, 0.1)  # start, end, step size.\n",
        "x\n",
        "\n",
        "x = np.linspace(0, 10, 101) # start, end, step count\n",
        "x"
      ]
    },
    {
      "cell_type": "markdown",
      "metadata": {
        "id": "zPvlIXNgAfkd"
      },
      "source": [
        "Then we can pass the generated data a numpy function — in this case, the cosine function. Like most others in Numpy, this function is _vectorized_, meaning that it operates on and returns arrays."
      ]
    },
    {
      "cell_type": "code",
      "execution_count": null,
      "metadata": {
        "colab": {
          "base_uri": "https://localhost:8080/"
        },
        "id": "eSVbWlKOBKhg",
        "outputId": "02143fc6-3b88-47f6-e811-71b4394ea08d"
      },
      "outputs": [],
      "source": [
        "y = np.cos(x)\n",
        "y"
      ]
    },
    {
      "cell_type": "markdown",
      "metadata": {
        "id": "p34exuB2BtcQ"
      },
      "source": [
        "Now we can use the generated data to plot the $\\cos(a)$ function."
      ]
    },
    {
      "cell_type": "code",
      "execution_count": null,
      "metadata": {
        "colab": {
          "base_uri": "https://localhost:8080/",
          "height": 464
        },
        "id": "cqO9sQxxBxTQ",
        "outputId": "72ff3532-c436-4613-998f-893d6dbf3296"
      },
      "outputs": [],
      "source": [
        "plt.figure()\n",
        "plt.plot(x, y)\n",
        "\n",
        "# Exercise 1. Set labels \"a\" and \"f(a)\" for the x and y axes.\n",
        "# Exercise 2. Change the line color to green and set the linewidth to 2.0.\n",
        "# Exercise 3. Add another plot representing sin(a)."
      ]
    },
    {
      "cell_type": "markdown",
      "metadata": {
        "id": "_MquH9mhTHAt"
      },
      "source": [
        "---"
      ]
    },
    {
      "cell_type": "markdown",
      "metadata": {
        "id": "5dtgESZXCHzM"
      },
      "source": [
        "### Subplots\n",
        "\n",
        "Recap: There are essentially two approaches to use Matplotlib:\n",
        "\n",
        "1. **Function-based Approach**: rely on pyplot to automatically create and manage the figures and axes, and then use pyplot functions for plotting.\n",
        "2. **Object-oriented Approach**: explicitly create figures and axes, and call methods on them.\n",
        "\n",
        "In the examples that we showed you before we used the function-based approach, which is simpler and easier to use for small, uncomplicated plots. However, for larger, more involved plots, we prefer the second approach, as it offers far more flexibility.\n",
        "\n",
        "Here we will start by creating a *figure* and *axes* Object, and then we will use these Objects to draw a plot 1-D Line Plot."
      ]
    },
    {
      "cell_type": "code",
      "execution_count": null,
      "metadata": {
        "colab": {
          "base_uri": "https://localhost:8080/",
          "height": 498
        },
        "id": "NLDumM7w7gmZ",
        "outputId": "16f78bcc-4390-419e-b584-18a6106eb5a7"
      },
      "outputs": [],
      "source": [
        "x  = [1, 2, 3, 4, 5]\n",
        "y1 = [5, 3, 5, 3, 5]\n",
        "y2 = [2, 4, 6, 4, 2]\n",
        "\n",
        "fig, ax = plt.subplots()\n",
        "\n",
        "fig.set_size_inches(8.0, 5.0)\n",
        "\n",
        "ax.plot(x, y1)\n",
        "ax.plot(x, y2)\n",
        "\n",
        "# Careful! The syntax changes when using axes Objects in Matplotlib.\n",
        "# Before we were using plt.xlabel('xlabel'). Now we need to\n",
        "# prefix these calls with \"set_\".\n",
        "\n",
        "ax.set_xlabel('x label')\n",
        "ax.set_ylabel('y label')\n",
        "\n",
        "ax.set_xlim(1.5, 4.5)\n",
        "ax.set_ylim(2.0, 6.5)\n",
        "\n",
        "plt.show()"
      ]
    },
    {
      "cell_type": "markdown",
      "metadata": {
        "id": "e8N7S9iQ8WdK"
      },
      "source": [
        "Why should we use *axes Objects* then? Well, one of the motivations for creating *axes Objects* is that they offer an intuitive way of generating subplots in a given *figure*."
      ]
    },
    {
      "cell_type": "code",
      "execution_count": null,
      "metadata": {
        "colab": {
          "base_uri": "https://localhost:8080/",
          "height": 347
        },
        "id": "T-QbzUaP8faz",
        "outputId": "d95eadd5-8883-413e-d551-9438907dc849"
      },
      "outputs": [],
      "source": [
        "# Data.\n",
        "x1 = [0, 1, 2, 3, 4, 5]\n",
        "x2 = [0, 3, 6, 9, 12, 15]\n",
        "y1 = [-1, -2, -3, -4, -5, 0]\n",
        "y2 = [1, 2, 3, 4, 5, 0]\n",
        "\n",
        "# Create figure and axes Objects.\n",
        "fig, axs = plt.subplots(nrows=1, ncols=2)\n",
        "\n",
        "# Set figure size.\n",
        "fig.set_size_inches(7., 3)\n",
        "\n",
        "# We can use the index of the subplots to draw specific plots in these axes.\n",
        "axs[0].plot(x1, y1, color='orange')  # Axes\n",
        "\n",
        "axs[1].plot(x2, y2, color='blue')\n",
        "\n",
        "# We can specify the axis labels in the same way.\n",
        "axs[0].set_xlabel('x1')\n",
        "axs[0].set_ylabel('y1')\n",
        "axs[1].set_xlabel('x2')\n",
        "axs[1].set_ylabel('y2')\n"
      ]
    },
    {
      "cell_type": "markdown",
      "metadata": {
        "id": "oYoS3GU_E6aI"
      },
      "source": [
        "We can even go further and create a grid of plots using the *axis* index notation."
      ]
    },
    {
      "cell_type": "code",
      "execution_count": null,
      "metadata": {
        "colab": {
          "base_uri": "https://localhost:8080/",
          "height": 494
        },
        "id": "Sk6fdTGSFID2",
        "outputId": "b850f74f-8f80-4e95-e74a-56d92cd61c97"
      },
      "outputs": [],
      "source": [
        "fig, axarr = plt.subplots(nrows=2, ncols=2)\n",
        "axarr[0][0].plot(x1, y1, 'orange', label='Line A')\n",
        "axarr[0][1].plot(x2, y2, 'blue', label='Line B')\n",
        "axarr[1][0].plot(x1, y2, 'red', label='Line C')\n",
        "axarr[1][1].plot(x2, y1, 'olive', label='Line D')\n",
        "\n",
        "fig.set_size_inches(5.0, 5.0)\n",
        "\n",
        "fig.legend(loc=\"center left\", bbox_to_anchor=(1, 0.5))\n",
        "plt.tight_layout()"
      ]
    },
    {
      "cell_type": "markdown",
      "metadata": {
        "id": "HM2mVvr_O6a9"
      },
      "source": [
        "We can also add a bit more complexity to our figures by adding a grid with different shape and size to each subplot. For that, we will need to use the `subplot2grid` function."
      ]
    },
    {
      "cell_type": "code",
      "execution_count": null,
      "metadata": {
        "colab": {
          "base_uri": "https://localhost:8080/",
          "height": 476
        },
        "id": "_Sg6ByRpPT-O",
        "outputId": "4b6be17b-e971-4517-e91b-320e499b292e"
      },
      "outputs": [],
      "source": [
        "def random_data():\n",
        "  x = np.cos(np.linspace(0, 100, 1000))\n",
        "  x *= np.random.randint(0, 50, 1)\n",
        "  y = np.cos(x) * np.sin(x)\n",
        "  return x, y\n",
        "\n",
        "fig = plt.figure()\n",
        "\n",
        "ax1 = plt.subplot2grid((6, 2), (0, 0), rowspan=1, colspan=2)\n",
        "ax2 = plt.subplot2grid((6, 2), (1, 0), rowspan=3, colspan=2)\n",
        "ax3 = plt.subplot2grid((6, 2), (4, 0), rowspan=2, colspan=1)\n",
        "ax4 = plt.subplot2grid((6, 2), (4, 1), rowspan=2, colspan=1)\n",
        "\n",
        "x, y = random_data()\n",
        "ax1.plot(x, y, color='blue')\n",
        "\n",
        "x, y = random_data()\n",
        "ax2.plot(x, y, color='navy')\n",
        "\n",
        "x, y = random_data()\n",
        "ax3.plot(x, y, color='purple')\n",
        "\n",
        "x, y = random_data()\n",
        "ax4.plot(x, y, color='lightblue')\n",
        "plt.tight_layout()\n",
        "plt.show()"
      ]
    },
    {
      "cell_type": "markdown",
      "metadata": {
        "id": "conKwTNGeS1W"
      },
      "source": [
        "---"
      ]
    },
    {
      "cell_type": "markdown",
      "metadata": {
        "id": "9-CelVUmdz8r"
      },
      "source": [
        "### Bar Plots"
      ]
    },
    {
      "cell_type": "code",
      "execution_count": null,
      "metadata": {
        "colab": {
          "base_uri": "https://localhost:8080/",
          "height": 464
        },
        "id": "79C7jc9mv-Ji",
        "outputId": "a28b3a5b-f326-4602-d4bc-435116939221"
      },
      "outputs": [],
      "source": [
        "x = ['Ruby', 'Python', 'C++', 'Java', 'Perl', 'JavaScript', 'C#', 'PHP']\n",
        "y1 = [108065, 103492, 101561, 99951, 99857, 95902, 94653, 93169]\n",
        "y2 = [121253, 119082, 101440, 104544, 107698, 117718, 76271, 93828]\n",
        "\n",
        "plt.figure()\n",
        "\n",
        "plt.bar(x, y1, label='2017 Average salary (in $)')\n",
        "plt.bar(x, y2, label='2020 Average salary (in $)', color='orange', alpha=0.2)\n",
        "plt.legend()"
      ]
    },
    {
      "cell_type": "code",
      "execution_count": null,
      "metadata": {
        "colab": {
          "base_uri": "https://localhost:8080/",
          "height": 327
        },
        "id": "DzhC3I7XF8mN",
        "outputId": "df10b48c-28cf-404d-da37-131176435f43"
      },
      "outputs": [],
      "source": [
        "fig, ax = plt.subplots(nrows=1, ncols=2)\n",
        "fig.set_size_inches(15, 3.)\n",
        "\n",
        "ax[0].bar(x, y1, label='2017')\n",
        "ax[1].bar(x, y2, label='2020', color='orange')\n",
        "ax[0].set_title('2017 Average salary (in $)')\n",
        "ax[1].set_title('2018 Average salary (in $)')\n",
        "\n",
        "ax[0].set_ylim(0, 125e3)\n",
        "ax[0].set_ylim(0, 125e3)"
      ]
    },
    {
      "cell_type": "code",
      "execution_count": null,
      "metadata": {
        "colab": {
          "base_uri": "https://localhost:8080/",
          "height": 303
        },
        "id": "jHI7CgxXMxnU",
        "outputId": "0f94f89b-e8d1-44e8-b61d-60620ea05dd2"
      },
      "outputs": [],
      "source": [
        "x_positions = np.arange(0, len(x))\n",
        "\n",
        "plt.figure(figsize=(12, 3))\n",
        "\n",
        "plt.bar(x_positions-0.2, y1, width=0.4, label='2017')\n",
        "plt.bar(x_positions+0.2, y2, width=0.4, label='2020', color='orange')\n",
        "\n",
        "plt.xticks(x_positions, labels=x)\n",
        "\n",
        "plt.legend()\n",
        "plt.show()"
      ]
    },
    {
      "cell_type": "markdown",
      "metadata": {
        "id": "3hI4WZXSfnk0"
      },
      "source": [
        "---"
      ]
    },
    {
      "cell_type": "markdown",
      "metadata": {
        "id": "sIZLTZ0pdo0Z"
      },
      "source": [
        "### Scatter Plots\n",
        "\n",
        "**Note**: Line plots are typically used for representing continuous functions. In contrast, scatter plots are used to show relationships between two sets of data without implicitly stating the ordering and connection between the data-points."
      ]
    },
    {
      "cell_type": "code",
      "execution_count": null,
      "metadata": {
        "colab": {
          "base_uri": "https://localhost:8080/",
          "height": 625
        },
        "id": "bZv4MenQpYOF",
        "outputId": "997eb5c1-38ca-4edf-841d-89fe0b2d2c57"
      },
      "outputs": [],
      "source": [
        "xvals = [0.0, 1.0, 4.3, 2.0, 3.5, 2.5, 0.5, 5.0, 6.0, 7.0]\n",
        "yvals = [0.0126, 0.031, 0.072, 0.056, 0.079, 0.068, 0.020, 0.056, 0.031, 0.0125]\n",
        "\n",
        "fig, ax = plt.subplots()\n",
        "fig.set_size_inches(11, 7)\n",
        "\n",
        "for xval, yval in zip(xvals, yvals):\n",
        "  ax.scatter(xval, yval, s=803)\n"
      ]
    },
    {
      "cell_type": "code",
      "execution_count": null,
      "metadata": {
        "colab": {
          "base_uri": "https://localhost:8080/",
          "height": 627
        },
        "id": "ChynwZKEiXHR",
        "outputId": "cc3552d4-e2f8-420d-8717-46740edbae70"
      },
      "outputs": [],
      "source": [
        "import random\n",
        "\n",
        "fig, ax = plt.subplots()\n",
        "fig.set_size_inches(11, 7)\n",
        "\n",
        "for _ in range(500):\n",
        "  xval = random.gauss(0, 1)\n",
        "  yval = 2 * xval + 3 + random.gauss(0, 1.3)\n",
        "\n",
        "  ax.scatter(xval, yval, s=103, alpha=0.41)\n"
      ]
    },
    {
      "cell_type": "markdown",
      "metadata": {
        "id": "4NKcEHxvlEAK"
      },
      "source": [
        "It is often useful to annotate scatter points with information on what a given point represents. For this we can use colours, shapes, labels, etc. In this case, we will use the flexibility of matplotlib to create a scatterpie plot, in which each scatter point is its own pie graph.\n",
        "\n",
        "For this we will make use of the `inset_axes` function, which allows us to create a subplot of arbitrary size and position anywhere within an existing plot."
      ]
    },
    {
      "cell_type": "code",
      "execution_count": null,
      "metadata": {
        "colab": {
          "base_uri": "https://localhost:8080/",
          "height": 1000
        },
        "id": "_pqr5d7IlrWW",
        "outputId": "a13297c5-32d1-42ce-ba32-88a48adb0c5a"
      },
      "outputs": [],
      "source": [
        "from mpl_toolkits.axes_grid1.inset_locator import inset_axes\n",
        "\n",
        "fig, ax = plt.subplots()\n",
        "fig.set_size_inches(13, 13)\n",
        "\n",
        "# fix the randomness so that we can make the same random plot each time\n",
        "random.seed(3333)\n",
        "\n",
        "for _ in range(13):\n",
        "  xval = random.gauss(0, 1)\n",
        "  yval = 2 * xval + 3 + random.gauss(0, 1.3)\n",
        "\n",
        "  # choose the proporties of the pie chart\n",
        "  pie_clr = random.random(), random.random(), random.random()\n",
        "  pie_size = random.uniform(0.5, 2.5)\n",
        "  pie_prop = random.uniform(0.1, 0.9)\n",
        "\n",
        "  # define the area the pie plot will cover by stating its lower-left corner and\n",
        "  # its dimensions\n",
        "  pie_bbox = (xval - pie_size / 2, yval - pie_size / 2,\n",
        "              pie_size, pie_size)\n",
        "\n",
        "  # create a new axis for the pie chart subplot\n",
        "  pie_ax = inset_axes(ax, width='100%', height='100%',\n",
        "                      bbox_to_anchor=pie_bbox, bbox_transform=ax.transData,\n",
        "                      axes_kwargs=dict(aspect='equal'), borderpad=0)\n",
        "\n",
        "  # add the pie chart to the subplot\n",
        "  pie_ax.pie(x=[pie_prop, 1 - pie_prop],\n",
        "             colors=[pie_clr + (0.91, ), pie_clr + (0.41, )],\n",
        "             explode=[0.29, 0], startangle=90)\n",
        "\n",
        "# clean up plot aesthetics\n",
        "ax.set_xlim(-3, 3)\n",
        "ax.set_ylim(-5, 13)\n",
        "ax.grid(lw=0.71, alpha=0.43)\n"
      ]
    },
    {
      "cell_type": "markdown",
      "metadata": {
        "id": "4J6mS0Myqrwc"
      },
      "source": [
        "## Seaborn\n",
        "\n",
        "- Often used along with matplotlib\n",
        "- Integrates with Pandas and 2D Data Frames\n",
        "- Simple syntax, complex plots with statistics: perfect for exploratory data analysis or even publishable figures"
      ]
    },
    {
      "cell_type": "code",
      "execution_count": null,
      "metadata": {
        "id": "-ANfe8hzRDjI"
      },
      "outputs": [],
      "source": [
        "import seaborn as sns"
      ]
    },
    {
      "cell_type": "markdown",
      "metadata": {
        "id": "Js7xwsNeasm9"
      },
      "source": [
        "### Distribution Plots\n",
        "\n",
        "Now we will use *Seaborn* to analyze our data in a visual manner.\n",
        "We can start by plotting a distribuition plot for a given column (e.g. the distribution of the variable *Wind Speed*)."
      ]
    },
    {
      "cell_type": "code",
      "execution_count": null,
      "metadata": {
        "colab": {
          "base_uri": "https://localhost:8080/",
          "height": 476
        },
        "id": "J8vRlmeTa2Xa",
        "outputId": "da7f27c4-03ad-444a-8bee-a7227a45cebd"
      },
      "outputs": [],
      "source": [
        "g = sns.histplot(df['Data_Wind_Speed'])"
      ]
    },
    {
      "cell_type": "markdown",
      "metadata": {
        "id": "oGZhe7rfXYKd"
      },
      "source": [
        "We can select the number of bins to represent our data using the `bins` argument.  We can also set some limits for our plot using the `set` function and the `xlim` argument."
      ]
    },
    {
      "cell_type": "code",
      "execution_count": null,
      "metadata": {
        "colab": {
          "base_uri": "https://localhost:8080/",
          "height": 493
        },
        "id": "G5LN0wSucTPN",
        "outputId": "a5505c89-bee9-44b5-a126-b1ac1c2fb8eb"
      },
      "outputs": [],
      "source": [
        "g = sns.histplot(df.Data_Wind_Speed, bins=50)\n",
        "g.set(xlim=(0, 25))"
      ]
    },
    {
      "cell_type": "markdown",
      "metadata": {
        "id": "GqgFrblPX2wn"
      },
      "source": [
        "Very often it's useful to print out the minimum and maximum values for a given column to get an idea of the range of our data.\n",
        "One can use the `sort_values` function to sort the values in ascending order. In addition, we can use the `min` and `max` functions to get the bounds of our data."
      ]
    },
    {
      "cell_type": "code",
      "execution_count": null,
      "metadata": {
        "colab": {
          "base_uri": "https://localhost:8080/"
        },
        "id": "7Jm1XMVtcl83",
        "outputId": "3f90e286-afe7-446e-990b-13a15c1a427a"
      },
      "outputs": [],
      "source": [
        "print(df.Data_Wind_Speed.min())\n",
        "print(df.Data_Wind_Speed.max())"
      ]
    },
    {
      "cell_type": "markdown",
      "metadata": {
        "id": "BdhDgwSZYqCp"
      },
      "source": [
        "We can filter the values of our dataset, using a conditional statement and create a new dataset with the data that satisfies the criteria that we impose.\n",
        "Here, we will create a second dataset (*df2*) with the entries that contain *Wind Speed* values below 25 units."
      ]
    },
    {
      "cell_type": "code",
      "execution_count": null,
      "metadata": {
        "colab": {
          "base_uri": "https://localhost:8080/"
        },
        "id": "UYu_LqLKdlqX",
        "outputId": "21203528-509e-4b82-8634-fa1662982678"
      },
      "outputs": [],
      "source": [
        "df2 = df[df.Data_Wind_Speed < 25]\n",
        "print(len(df), len(df2))"
      ]
    },
    {
      "cell_type": "markdown",
      "metadata": {
        "id": "oCSd6KhKZKxF"
      },
      "source": [
        "We can observe that the maximum *Wind Speed* value in our new subset (*df2*) is below 25 units."
      ]
    },
    {
      "cell_type": "code",
      "execution_count": null,
      "metadata": {
        "colab": {
          "base_uri": "https://localhost:8080/"
        },
        "id": "GReuepzQZUZa",
        "outputId": "8add3839-a3b7-409e-a639-a5fd7baf5799"
      },
      "outputs": [],
      "source": [
        "df2.Data_Wind_Speed.max()\n",
        "# or df[df.Data_Wind_Speed < 25].Data_Wind_Speed.max() if you don't want to create a new data frame"
      ]
    },
    {
      "cell_type": "markdown",
      "metadata": {
        "id": "QtAZhSkKZb0X"
      },
      "source": [
        "Lets plot a new distribuition plot for *Wind Speed* but now using our new subset (*df2*). No need to change axes now!"
      ]
    },
    {
      "cell_type": "code",
      "execution_count": null,
      "metadata": {
        "colab": {
          "base_uri": "https://localhost:8080/",
          "height": 493
        },
        "id": "idVQOvRieklv",
        "outputId": "cd17a357-d792-4f26-e6fc-8d4b78a701bf"
      },
      "outputs": [],
      "source": [
        "sns.histplot(df2.Data_Wind_Speed, bins=50)\n",
        "print(f\"Average wind speed: {np.average(df2.Data_Wind_Speed):0.4f}\")"
      ]
    },
    {
      "cell_type": "markdown",
      "metadata": {
        "id": "bryMCcZ2YPhs"
      },
      "source": [
        "We can plot histograms on top of eachother to visualize differences between groups of data."
      ]
    },
    {
      "cell_type": "code",
      "execution_count": null,
      "metadata": {
        "colab": {
          "base_uri": "https://localhost:8080/",
          "height": 504
        },
        "id": "jsWkWe3UvqFZ",
        "outputId": "c43b6e08-85cb-4f3e-f377-ed1e008bc7a7"
      },
      "outputs": [],
      "source": [
        "# Distribution of the Max. Temperature in the U.S.A.\n",
        "# Try modifying this code to use stat=\"density\" so the total area under\n",
        "# the histogram is 1. This is useful for comparing distributions!\n",
        "sns.histplot(df.Data_Temperature_Max_Temp,\n",
        "            stat=\"count\",\n",
        "            binwidth=5)\n",
        "sns.histplot(df.Data_Temperature_Max_Temp[df.Station_State == \"California\"],\n",
        "            stat=\"count\",\n",
        "            color=\"orange\",\n",
        "            binwidth=5)\n",
        "plt.title('Distribution max temperature')\n",
        "sns.despine()"
      ]
    },
    {
      "cell_type": "markdown",
      "metadata": {
        "id": "7nmrmfhl9z4W"
      },
      "source": [
        "---"
      ]
    },
    {
      "cell_type": "markdown",
      "metadata": {
        "id": "nz4cJJTqLAB6"
      },
      "source": [
        "### Joint Plots\n",
        "\n",
        "We can also show a Joint plot for two different variables. For instance, `Data_Temperature_Min_Temp` and `Data_Temperature_Max_Temp`.\n",
        "\n",
        "Seaborn easily generates multi-part plots! Doing this with Matplotlib would require more code."
      ]
    },
    {
      "cell_type": "code",
      "execution_count": null,
      "metadata": {
        "colab": {
          "base_uri": "https://localhost:8080/",
          "height": 611
        },
        "id": "DErW39arwOqB",
        "outputId": "6bf30fb1-9dbd-4a6c-9be8-a8487411a4e4"
      },
      "outputs": [],
      "source": [
        "sns.jointplot(data=df,\n",
        "                x='Data_Temperature_Min_Temp',\n",
        "                y='Data_Temperature_Max_Temp',\n",
        "                alpha=0.1)"
      ]
    },
    {
      "cell_type": "markdown",
      "metadata": {
        "id": "FsXEwUvTGvqi"
      },
      "source": [
        "It seems that we have a strange value at the 60/60 position.\n",
        "Lets interrogate our dataset..."
      ]
    },
    {
      "cell_type": "code",
      "execution_count": null,
      "metadata": {
        "colab": {
          "base_uri": "https://localhost:8080/",
          "height": 224
        },
        "id": "N-CmQQq7EBBH",
        "outputId": "38949f6f-8730-4b64-d6a7-127f98af35c1"
      },
      "outputs": [],
      "source": [
        "df60 = df[(df['Data_Temperature_Max_Temp'] == 60) & (df['Data_Temperature_Min_Temp'] == 60) ]\n",
        "df60.head()\n",
        "# Note the use of parentheses to specify more than 1 condition to filter rows"
      ]
    },
    {
      "cell_type": "markdown",
      "metadata": {
        "id": "XhzveHumHFH5"
      },
      "source": [
        "We realize that some stations in Alaska contain a 60 value for the Avg, Max, Min temperature columns...that's weird – especially if we consider that some temperature recordings were made in January.\n",
        "If we search on the internet we will find out that the average temperature in Alaska in January 2016 was 27°F.\n",
        "So it seems that these entries could potentially be wrong.\n",
        "\n",
        "This was a great example to show how visualization tools help to understand and find anomalies in our data.\n",
        "\n"
      ]
    },
    {
      "cell_type": "markdown",
      "metadata": {
        "id": "aowC96b1KnW4"
      },
      "source": [
        "---"
      ]
    },
    {
      "cell_type": "markdown",
      "metadata": {
        "id": "G4MtJB5-KogW"
      },
      "source": [
        "### Pair Plots\n",
        "\n",
        "A _pair plot_ draws a pairwise relationships in a dataset, so one can use it to analyze the distribution of multiple variables at the same time.\n",
        "\n",
        "We start by creating a new subset of our data by selecting some columns. For instance we can select the columns that contain temperature information."
      ]
    },
    {
      "cell_type": "code",
      "execution_count": null,
      "metadata": {
        "id": "iRLvQDCU9uUS"
      },
      "outputs": [],
      "source": [
        "dfTemp = df[['Data_Temperature_Avg_Temp', 'Data_Temperature_Max_Temp', 'Data_Temperature_Min_Temp']]"
      ]
    },
    {
      "cell_type": "markdown",
      "metadata": {
        "id": "ds_Y0jRiZIar"
      },
      "source": [
        "Let's take a look to our new subset."
      ]
    },
    {
      "cell_type": "code",
      "execution_count": null,
      "metadata": {
        "colab": {
          "base_uri": "https://localhost:8080/",
          "height": 204
        },
        "id": "mw4lRonV-nz_",
        "outputId": "aa5545d6-444a-4960-d7b8-bec309cda0f7"
      },
      "outputs": [],
      "source": [
        "dfTemp.head(5)"
      ]
    },
    {
      "cell_type": "markdown",
      "metadata": {
        "id": "SyUfFl2gs1Yf"
      },
      "source": [
        "Now, we can plot a joint plot for each pair of columns in the temperatures subset using the *Seaborn* `pairplot` built-in function.\n",
        "Note: this may be computationally expensive.\n"
      ]
    },
    {
      "cell_type": "code",
      "execution_count": null,
      "metadata": {
        "colab": {
          "base_uri": "https://localhost:8080/",
          "height": 775
        },
        "id": "hwv_La3uC46C",
        "outputId": "ffed8bc3-d000-4438-bb36-30b95b2a04df"
      },
      "outputs": [],
      "source": [
        "# the 'fivethirtyeight' theme set above doesn't play well with pairplot! Let's revert to defaults!\n",
        "plt.rcParams.update(plt.rcParamsDefault)\n",
        "%matplotlib inline\n",
        "plt.style.use('seaborn-v0_8-darkgrid')\n",
        "\n",
        "sns.pairplot(dfTemp, plot_kws={'alpha': 0.5})"
      ]
    },
    {
      "cell_type": "markdown",
      "metadata": {
        "id": "-58VYhE_tLRR"
      },
      "source": [
        "Since the temperature data above fall into different categories (e.g. from year 2016 or 2017), we can also keep track of these categories with different colors using the hue argument.\n",
        "\n",
        "Check color palettes in: https://seaborn.pydata.org/tutorial/color_palettes.html\n"
      ]
    },
    {
      "cell_type": "code",
      "execution_count": null,
      "metadata": {
        "colab": {
          "base_uri": "https://localhost:8080/",
          "height": 775
        },
        "id": "pceDMVih_pve",
        "outputId": "9dcdeacf-803d-43da-8ed9-1e325382c62a"
      },
      "outputs": [],
      "source": [
        "dfTemp = df[['Date_Year', 'Data_Temperature_Avg_Temp', 'Data_Temperature_Max_Temp', 'Data_Temperature_Min_Temp']]\n",
        "sns.pairplot(dfTemp, hue='Date_Year', palette='bright')"
      ]
    },
    {
      "cell_type": "markdown",
      "metadata": {
        "id": "1AhoKb7O9_ga"
      },
      "source": [
        "---"
      ]
    },
    {
      "cell_type": "markdown",
      "metadata": {
        "id": "G3QRvlQBLUHk"
      },
      "source": [
        "### Bar Plots\n",
        "\n",
        "We can build Bar Plots with the values in our *Pandas* dataframe using the *Seaborn* `barplot` built-in function.\n",
        "Here we decide to plot the maximum temperature (see `Data_Temperature_Max_Temp` column) for the different months of the year."
      ]
    },
    {
      "cell_type": "code",
      "execution_count": null,
      "metadata": {
        "colab": {
          "base_uri": "https://localhost:8080/",
          "height": 462
        },
        "id": "2a_mIhDRDz0z",
        "outputId": "65878c12-e59a-4037-c6e6-371dc44a70dd"
      },
      "outputs": [],
      "source": [
        "sns.barplot(x='Date_Month', y='Data_Temperature_Max_Temp', data=df)"
      ]
    },
    {
      "cell_type": "markdown",
      "metadata": {
        "id": "Nlfvoh-F-ncO"
      },
      "source": [
        "Note that the *Seaborn* `barplot` function provides (by default) the average values over a given variable. In this example it computes the average of the `Data_Temperature_Max_Temp` values for a given month (these include different weeks, stations, states, ...).\n",
        "\n",
        "We can also define specific estimators by passing a function to the `estimator` parameter of the *Seaborn* `barplot` method. For instance, we can ask *Seaborn* to compute the standard deviation of the `Data_Temperature_Max_Temp` values for a given month of the year."
      ]
    },
    {
      "cell_type": "code",
      "execution_count": null,
      "metadata": {
        "colab": {
          "base_uri": "https://localhost:8080/",
          "height": 462
        },
        "id": "YEVfg6fzE2b5",
        "outputId": "dd3c07ef-974f-4cde-a0b6-e5f1cfe00698"
      },
      "outputs": [],
      "source": [
        "sns.barplot(x='Date_Month', y='Data_Temperature_Max_Temp', data=df, estimator=np.std)"
      ]
    },
    {
      "cell_type": "markdown",
      "metadata": {
        "id": "EZVzC5hPLXeB"
      },
      "source": [
        "---"
      ]
    },
    {
      "cell_type": "markdown",
      "metadata": {
        "id": "RK8RTDPuGhde"
      },
      "source": [
        "### Box Plots\n",
        "\n",
        "A box plot (or box-and-whisker plot) shows the distribution of data and allows us to compare across levels of a categorical variable. The box shows the quartiles of the dataset while the whiskers extend to show the rest of the distribution, except for points that are determined to be “outliers” using a method that is a function of the inter-quartile range (by default `whis=1.5`, proportion of the IQR past the low and high quartiles to extend the plot whiskers)."
      ]
    },
    {
      "cell_type": "code",
      "execution_count": null,
      "metadata": {
        "colab": {
          "base_uri": "https://localhost:8080/",
          "height": 462
        },
        "id": "OXG6LsNRFI9U",
        "outputId": "c69fdb7f-2542-4ffe-e009-3f692e217d70"
      },
      "outputs": [],
      "source": [
        "sns.boxplot(x='Date_Month', y='Data_Temperature_Avg_Temp', data=df,\n",
        "            whis=1.5)"
      ]
    },
    {
      "cell_type": "markdown",
      "metadata": {
        "id": "IRIWCr4kysfx"
      },
      "source": [
        "If we pass the `Date_Year` column name to the `hue` argument, we can create box plots that directly compare the distributions across years for each month. We can select a color scheme passing a `palette` argument.\n",
        "\n",
        "This is a decently complicated plot created using minimal code!"
      ]
    },
    {
      "cell_type": "code",
      "execution_count": null,
      "metadata": {
        "colab": {
          "base_uri": "https://localhost:8080/",
          "height": 462
        },
        "id": "ZEFEiz2fGdZt",
        "outputId": "127030a5-acbe-409c-cc10-a38ece9c2871"
      },
      "outputs": [],
      "source": [
        "sns.boxplot(x='Date_Month', y='Data_Temperature_Avg_Temp',\n",
        "            data=df, hue='Date_Year', palette='coolwarm')"
      ]
    },
    {
      "cell_type": "markdown",
      "metadata": {
        "id": "e2ciNkU_zHch"
      },
      "source": [
        "Here we realize that our dataset is almost limited to data collected in 2016 (in 2017 we only have entries of data-points collected in January).\n",
        "\n",
        "Again, representing our data in a visual manner allow us to unravel information about our dataset that we would have missed if we would have only checked the tables.\n"
      ]
    },
    {
      "cell_type": "markdown",
      "metadata": {
        "id": "OyLLj0MDLcmY"
      },
      "source": [
        "---"
      ]
    },
    {
      "cell_type": "markdown",
      "metadata": {
        "id": "R2ila6Y7LdmZ"
      },
      "source": [
        "### Violin Plots\n",
        "\n",
        "Violin plots show similar information as the box plots – showing the distribution of quantitative data in a way that facilitates comparisons between variables or across levels of a categorical variable – but they contain extra information. Violin Plots also show the probability distribution of our data, which is great to check whether our data is skewed."
      ]
    },
    {
      "cell_type": "code",
      "execution_count": null,
      "metadata": {
        "colab": {
          "base_uri": "https://localhost:8080/",
          "height": 462
        },
        "id": "jwQ6dLEGH8Ma",
        "outputId": "7ad03bce-c22c-4381-bf5d-02af4b20b880"
      },
      "outputs": [],
      "source": [
        "sns.violinplot(x='Date_Month', y='Data_Temperature_Avg_Temp', data=df)"
      ]
    },
    {
      "cell_type": "markdown",
      "metadata": {
        "id": "wsrIcMlccZUy"
      },
      "source": [
        "Here we can also pass `hue` argument to show different series on different sides of the Violin Plots."
      ]
    },
    {
      "cell_type": "code",
      "execution_count": null,
      "metadata": {
        "colab": {
          "base_uri": "https://localhost:8080/",
          "height": 462
        },
        "id": "shpy0VinIygi",
        "outputId": "e106dda2-8c61-42f3-dd53-0e28987deeaa"
      },
      "outputs": [],
      "source": [
        "sns.violinplot(x='Date_Month', y='Data_Temperature_Avg_Temp', data=df, hue='Date_Year', split=True)"
      ]
    },
    {
      "cell_type": "markdown",
      "metadata": {
        "id": "2mLC67-y8e-0"
      },
      "source": [
        "---"
      ]
    },
    {
      "cell_type": "markdown",
      "metadata": {
        "id": "XGFWdyNv8gNc"
      },
      "source": [
        "### Strip Plots\n",
        "\n",
        "Strip Plots are useful to see the distribuition of all the observations of one variable at a glance."
      ]
    },
    {
      "cell_type": "code",
      "execution_count": null,
      "metadata": {
        "colab": {
          "base_uri": "https://localhost:8080/",
          "height": 462
        },
        "id": "5153XjlyKoLT",
        "outputId": "2bdb266f-5bc8-4a54-e346-ec5aa5ed0111"
      },
      "outputs": [],
      "source": [
        "sns.stripplot(x='Date_Month', y='Data_Temperature_Avg_Temp', hue='Date_Month', palette='husl', legend=False, data=df)"
      ]
    },
    {
      "cell_type": "markdown",
      "metadata": {
        "id": "6Yc2bCWYVLXm"
      },
      "source": [
        "A strip plot can be drawn on its own, but it is also a good complement to box or violin plots – especially for these cases in which showing the underlying distribution of the data is important."
      ]
    },
    {
      "cell_type": "code",
      "execution_count": null,
      "metadata": {
        "colab": {
          "base_uri": "https://localhost:8080/",
          "height": 554
        },
        "id": "b9pZjGAuK53e",
        "outputId": "279d02b6-1aec-4c78-d5b5-3173b1578500"
      },
      "outputs": [],
      "source": [
        "# We can now apply what we learnt from Matplotlib to make a customized plot.\n",
        "\n",
        "fig, ax = plt.subplots()\n",
        "fig.set_size_inches(12, 6)\n",
        "\n",
        "sns.boxplot(x='Date_Month', y='Data_Temperature_Avg_Temp', data=df, ax=ax, zorder=100)\n",
        "sns.stripplot(x='Date_Month', y='Data_Temperature_Avg_Temp', data=df, ax=ax, hue='Date_Month', palette='husl', linewidth=0.5, alpha=0.5)\n",
        "\n",
        "# We can change the labels of the \"x\" axis.\n",
        "ax.set_xticklabels(['Jan', 'Feb', 'Mar', 'Apr', 'May', 'Jun',\n",
        "                    'Jul', 'Aug', 'Sep', 'Oct', 'Nov', 'Dec'])\n",
        "ax.set_xlabel('Month')\n",
        "ax.set_ylabel('Average Temperature')\n"
      ]
    },
    {
      "cell_type": "code",
      "execution_count": null,
      "metadata": {
        "id": "LEp0GlAdWdE0"
      },
      "outputs": [],
      "source": [
        "# Exercise. Build a violin plot comparing the Avg. temperature in CA and NJ through the different months of the year.\n",
        "\n",
        "# Step 1. Create a subset with the data from California and New Jersey.\n",
        "# Step 2. Create a figure and axis using Matplotlib using the Object method.\n",
        "# Step 3. Plot violin plot using the previous subset and Seaborn."
      ]
    },
    {
      "cell_type": "markdown",
      "metadata": {
        "id": "vdZo2sryNNI6"
      },
      "source": [
        "### Heatmap Plot of a Correlation Matrix\n",
        "\n",
        "A _heatmap plot_ is a 3-D representations of data in which the data values are represented as colors that represent some numerical scale.\n",
        "\n",
        "A _correlation matrix_ is a table that shows the correlation coefficients between different variables.  We can visually represent these Correlation Matrices using heatmaps.\n",
        "\n",
        "Here, we will start by creating a correlation matrix using the precipitation, temperature and wind variables of our dataset."
      ]
    },
    {
      "cell_type": "code",
      "execution_count": null,
      "metadata": {
        "colab": {
          "base_uri": "https://localhost:8080/",
          "height": 255
        },
        "id": "Wf6lzrc5LMvk",
        "outputId": "e4ba50e7-de85-4c9f-a934-c9cb76e731e5"
      },
      "outputs": [],
      "source": [
        "df_grid = df[['Data_Precipitation', 'Data_Temperature_Min_Temp',\n",
        "              'Data_Temperature_Max_Temp', 'Data_Temperature_Avg_Temp',\n",
        "              'Data_Wind_Direction', 'Data_Wind_Speed']]\n",
        "\n",
        "data_corr = df_grid.corr()\n",
        "data_corr"
      ]
    },
    {
      "cell_type": "markdown",
      "metadata": {
        "id": "eqXGrC5iaWzM"
      },
      "source": [
        "Now we can pass the Correlation Matrix to the *Seaborn* `heatmap` function in order to get a visual representation of the different values in the matrix.\n",
        "We can even include the values inside corresponding to each column and row by adding passing the argument `annot=True`."
      ]
    },
    {
      "cell_type": "code",
      "execution_count": null,
      "metadata": {
        "colab": {
          "base_uri": "https://localhost:8080/",
          "height": 625
        },
        "id": "n7kF34r-aPgW",
        "outputId": "dbfd667a-d513-4151-80df-14ebc12dbc6b"
      },
      "outputs": [],
      "source": [
        "sns.heatmap(data_corr, cmap='viridis', linewidths=2.0, linecolor='white',\n",
        "            annot=True)"
      ]
    },
    {
      "cell_type": "code",
      "execution_count": null,
      "metadata": {
        "id": "OlhnY8Ll9JFm"
      },
      "outputs": [],
      "source": [
        "# Exercise.\n",
        "# Plot in a single figure 3 Heatmap Plots containing the correlation matrices of 3 subsets.\n",
        "# Only include precipitation, temperature and wind variables.\n",
        "# (Subset 1): only including data from Florida.\n",
        "# (Subset 2): only including data from Ohio.\n",
        "# (Subset 3): only including data from New York.\n",
        "\n",
        "# Guideline.\n",
        "# Step 1. Create a subset including precipitation, temperature and wind variables using Pandas.\n",
        "\n",
        "# Step 2. Create the different subsets of the previous subset using Pandas.\n",
        "\n",
        "# Step 3. Create the correlation matrices for each subset.\n",
        "\n",
        "# Step 4. Create a figure and axes for each subplot.\n",
        "\n",
        "# Step 5. Plot the Correlation Heatmaps in each axes.\n",
        "\n",
        "# Step 6. Set titles for each plot.\n"
      ]
    },
    {
      "cell_type": "markdown",
      "metadata": {
        "id": "zVnAWR_mjZRn"
      },
      "source": [
        "**Extra (Advanced Usage).** One of the benefits of creating plots using a programming language is the fact that one can automate some tasks that are repeated through the process of creating your figures."
      ]
    },
    {
      "cell_type": "code",
      "execution_count": null,
      "metadata": {
        "colab": {
          "base_uri": "https://localhost:8080/",
          "height": 446
        },
        "id": "NRYbl-UsjYc4",
        "outputId": "cc643135-3a9a-4568-e711-c00da67d393e"
      },
      "outputs": [],
      "source": [
        "df3 = df[['Data_Precipitation', 'Data_Temperature_Min_Temp',\n",
        "          'Data_Temperature_Max_Temp', 'Data_Temperature_Avg_Temp',\n",
        "          'Data_Wind_Direction', 'Data_Wind_Speed']]\n",
        "\n",
        "states = ['California', 'Washington', 'Florida']\n",
        "# states = list(df['Station.State'].unique())[0:5]\n",
        "\n",
        "fig, ax = plt.subplots(nrows=1, ncols=len(states))\n",
        "fig.set_size_inches(5 * len(states), 5)\n",
        "\n",
        "for i in range(0 , len(states)):\n",
        "  subset_i = df3[df['Station_State'] == states[i]]\n",
        "  corr_i = subset_i.corr()\n",
        "  sns.heatmap(corr_i, cmap='viridis', annot=True, ax=ax[i], cbar=False)\n",
        "  ax[i].set_title(states[i])\n",
        "\n",
        "plt.tight_layout()"
      ]
    },
    {
      "cell_type": "markdown",
      "metadata": {
        "id": "SdLOvsUJdg7l"
      },
      "source": [
        "---"
      ]
    },
    {
      "cell_type": "markdown",
      "metadata": {
        "id": "MVCsdS0vhIbg"
      },
      "source": [
        "## Interactive Plots with Plotly\n",
        "\n",
        "*Plotly* is an interactive visualization library. Using *Plotly* we are going to be able to create plots directly from our *Pandas* DataFrames.\n",
        "We can import *Plotly*:"
      ]
    },
    {
      "cell_type": "code",
      "execution_count": null,
      "metadata": {
        "id": "G-yG2oV0h_Nq"
      },
      "outputs": [],
      "source": [
        "import plotly.graph_objects as go"
      ]
    },
    {
      "cell_type": "code",
      "execution_count": null,
      "metadata": {
        "id": "Y0fWsLUnuYm-"
      },
      "outputs": [],
      "source": [
        "def random_cos(a):\n",
        "  y = np.cos(a)\n",
        "  y *= np.random.randint(0, 50, 1)\n",
        "  return y\n",
        "\n",
        "x = np.linspace(0, 10, 50)\n",
        "y = random_cos(x)"
      ]
    },
    {
      "cell_type": "code",
      "execution_count": null,
      "metadata": {
        "colab": {
          "base_uri": "https://localhost:8080/",
          "height": 542
        },
        "id": "UO829ttGjAeO",
        "outputId": "29dcf3af-03d5-414c-c9aa-5027c6c691c0"
      },
      "outputs": [],
      "source": [
        "fig = go.Figure()\n",
        "fig.add_trace(go.Scatter(x=x, y=y, name=\"Random Data\", line = dict(width=3)))\n",
        "fig.add_trace(go.Scatter(x=x, y=-y, name=\"Random Data 2\", line = dict(width=3)))\n",
        "fig.update_layout(title='Title', showlegend=True)\n",
        "\n",
        "fig.show(renderer=\"colab\")"
      ]
    },
    {
      "cell_type": "markdown",
      "metadata": {
        "id": "oxx5R--2z-EX"
      },
      "source": [
        "If you would like to create other type of plots please take a look at the [Plotly Cheat Sheet](https://images.plot.ly/plotly-documentation/images/python_cheat_sheet.pdf)."
      ]
    },
    {
      "cell_type": "markdown",
      "metadata": {
        "id": "HRxIQ4op2oIw"
      },
      "source": [
        "---"
      ]
    },
    {
      "cell_type": "markdown",
      "metadata": {
        "id": "3dsNtM3r1CFM"
      },
      "source": [
        "Plotly also offers an express mode. Users often define this express mode as: \"*plotly.express is to plotly what seaborn is to matplotlib.*\".\n",
        "This express mode is very intuitive and functions in a similar way than *Seaborn*.\n",
        "For that, we will need to import the express mode as follows:"
      ]
    },
    {
      "cell_type": "code",
      "execution_count": null,
      "metadata": {
        "id": "bF0pFWc3y0Dd"
      },
      "outputs": [],
      "source": [
        "import plotly.express as px"
      ]
    },
    {
      "cell_type": "markdown",
      "metadata": {
        "id": "WHuVwx-E1z-p"
      },
      "source": [
        "Now we can create a Scatter Plot using the *Plotly Express* `scatter` built-in function."
      ]
    },
    {
      "cell_type": "code",
      "execution_count": null,
      "metadata": {
        "colab": {
          "base_uri": "https://localhost:8080/",
          "height": 542
        },
        "id": "WNviekqg0fof",
        "outputId": "414d0ab5-4f6f-4cd7-f136-c078eef0524a"
      },
      "outputs": [],
      "source": [
        "fig = px.scatter(x=x, y=y, render_mode='-')\n",
        "fig.add_scatter(x=x, y=-y)\n",
        "fig.show(renderer='colab')"
      ]
    },
    {
      "cell_type": "markdown",
      "metadata": {
        "id": "o4XskJq22z0W"
      },
      "source": [
        "---"
      ]
    },
    {
      "cell_type": "markdown",
      "metadata": {
        "id": "_RJOIL0a20bt"
      },
      "source": [
        "We can also make subplots, in a similar way that we did in the *Matplotlib* section."
      ]
    },
    {
      "cell_type": "code",
      "execution_count": null,
      "metadata": {
        "colab": {
          "base_uri": "https://localhost:8080/",
          "height": 717
        },
        "id": "0VSOGzUh3AD7",
        "outputId": "fb301edc-b1dd-48d7-af1f-e5c8dcfa5a61"
      },
      "outputs": [],
      "source": [
        "from plotly.subplots import make_subplots\n",
        "\n",
        "fig = make_subplots(rows=2, cols=2,\n",
        "                    specs=[[{\"type\": \"xy\"}, {\"type\": \"polar\"}],\n",
        "                           [{\"type\": \"scatter\"}, {\"type\": \"scene\"}]])\n",
        "\n",
        "\n",
        "fig.add_bar(row=1, col=1, x=['A', 'B', 'C', 'D'], y=[3, 4, 1, 10])\n",
        "fig.add_scatter(row=2, col=1, x=x, y=y, mode='markers')\n",
        "fig.add_barpolar(row=1, col=2, theta=[0, 45, 90], r=[2, 3, 1])\n",
        "fig.add_scatter3d(row=2, col=2, x=[1, 2, 3], y=[1, 2, 3], z=[1, 1, 1])\n",
        "\n",
        "fig.update_layout(height=700, showlegend=True)\n",
        "\n",
        "\n",
        "fig.show(renderer='colab')"
      ]
    },
    {
      "cell_type": "markdown",
      "metadata": {
        "id": "egK6VkTl8DY5"
      },
      "source": [
        "---"
      ]
    },
    {
      "cell_type": "code",
      "execution_count": null,
      "metadata": {
        "id": "bGpQhmH13m8V"
      },
      "outputs": [],
      "source": [
        "x = np.random.randint(0, 20, 10)\n",
        "y = np.random.randint(0, 20, 10)\n",
        "X, Y = np.meshgrid(x, y)\n",
        "Z = np.cos(X) * np.cos(Y)"
      ]
    },
    {
      "cell_type": "markdown",
      "metadata": {
        "id": "8m4p6aHL8GTC"
      },
      "source": [
        "To finalize we will create an interactive 3-D Scatter Plot with some randomly generated data."
      ]
    },
    {
      "cell_type": "code",
      "execution_count": null,
      "metadata": {
        "colab": {
          "base_uri": "https://localhost:8080/",
          "height": 542
        },
        "id": "k9mtzIi18B7B",
        "outputId": "93aa421f-a728-4b84-f7b2-58fbfb39a6d7"
      },
      "outputs": [],
      "source": [
        "def random3d():\n",
        "  x = np.random.randint(0, 20, 10)\n",
        "  y =  np.random.randint(0, 20, 10)\n",
        "  X, Y = np.meshgrid(x, y)\n",
        "  Z = np.cos(X) * np.cos(Y)\n",
        "  a, b, c = [X.reshape(-1), Y.reshape(-1), Z.reshape(-1)]\n",
        "  return [a, b, c]\n",
        "\n",
        "\n",
        "a, b, c = random3d()\n",
        "fig = px.scatter_3d(x=a, y=b, z=c)\n",
        "\n",
        "for i in range(0, 3):\n",
        "  a, b, c = random3d()\n",
        "  fig.add_scatter3d(x=a, y=b, z=c, mode='markers')\n",
        "\n",
        "# fig.update_layout(height=700, showlegend=False)\n",
        "fig.show(renderer='colab')"
      ]
    },
    {
      "cell_type": "markdown",
      "metadata": {
        "id": "SIbwAYK25lKH"
      },
      "source": [
        "## Hopefully you can extrapolate the information that we have covered in this session to your own projects. We will be happy to help you through that process, so please send us an email if you have any questions!\n",
        "\n",
        "## Before you leave, please fill out the survey for the Data Visualization in Python session. Having feedback from our audience is essential for improving our future bootcamps and workshops. Please complete the survey.\n",
        "\n",
        "## Thank you very much!!!"
      ]
    }
  ],
  "metadata": {
    "colab": {
      "collapsed_sections": [
        "QSMmdrrVLZ-N"
      ],
      "provenance": []
    },
    "kernelspec": {
      "display_name": "Python 3.8.5 ('datascience')",
      "language": "python",
      "name": "python3"
    },
    "language_info": {
      "codemirror_mode": {
        "name": "ipython",
        "version": 3
      },
      "file_extension": ".py",
      "mimetype": "text/x-python",
      "name": "python",
      "nbconvert_exporter": "python",
      "pygments_lexer": "ipython3",
      "version": "3.8.5"
    },
    "vscode": {
      "interpreter": {
        "hash": "74a539bb1a30b12322b0673657a3362ba97f8c77e4e9b57fd18ae9f35996046a"
      }
    }
  },
  "nbformat": 4,
  "nbformat_minor": 0
}
